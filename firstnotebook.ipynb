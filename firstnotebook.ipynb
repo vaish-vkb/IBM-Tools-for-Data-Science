{
 "cells": [
  {
   "cell_type": "markdown",
   "id": "a5859e80",
   "metadata": {},
   "source": [
    "# My Jupyter Notebook on Watson Studio"
   ]
  },
  {
   "cell_type": "markdown",
   "id": "019a310d",
   "metadata": {},
   "source": [
    "Hi! **Vaishnavi Kundeshwara Bhat**\n",
    "\n",
    "Information Science Student\n"
   ]
  },
  {
   "cell_type": "markdown",
   "id": "defc4c78",
   "metadata": {},
   "source": [
    "***I am interested in data science because I love handling,analysing data. I have been a statistics major till 12th grade and programming has always been my favorite, thus I want to pursue that for a career and data science fits perfectly.***"
   ]
  },
  {
   "cell_type": "markdown",
   "id": "127f1a53",
   "metadata": {},
   "source": [
    "### The code below is supposed to print Hello World and Welcome to Data Science"
   ]
  },
  {
   "cell_type": "code",
   "execution_count": 5,
   "id": "4022fbbc",
   "metadata": {},
   "outputs": [
    {
     "name": "stdout",
     "output_type": "stream",
     "text": [
      "Hello World\n",
      "Welcome to Data Science\n"
     ]
    }
   ],
   "source": [
    "print(\"Hello World\")\n",
    "print(\"Welcome to Data Science\")"
   ]
  },
  {
   "cell_type": "markdown",
   "id": "073855ff",
   "metadata": {},
   "source": [
    "**Bullet List:**\n",
    "* This is a bullet list\n",
    "* This is the second line\n",
    "* This is the third line\n",
    "\n",
    "**Numbered List**\n",
    "1. Numbered list 1\n",
    "2. Numbered list 2\n",
    "3. Numbered list 3\n",
    "\n",
    "***\n",
    "Here is the horizontal line!\n",
    "***"
   ]
  },
  {
   "cell_type": "code",
   "execution_count": null,
   "id": "f26db708",
   "metadata": {},
   "outputs": [],
   "source": []
  }
 ],
 "metadata": {
  "kernelspec": {
   "display_name": "Python 3 (ipykernel)",
   "language": "python",
   "name": "python3"
  },
  "language_info": {
   "codemirror_mode": {
    "name": "ipython",
    "version": 3
   },
   "file_extension": ".py",
   "mimetype": "text/x-python",
   "name": "python",
   "nbconvert_exporter": "python",
   "pygments_lexer": "ipython3",
   "version": "3.9.7"
  }
 },
 "nbformat": 4,
 "nbformat_minor": 5
}
